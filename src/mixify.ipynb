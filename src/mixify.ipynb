{
 "cells": [
  {
   "cell_type": "markdown",
   "metadata": {},
   "source": [
    "#### 1. Extracting playlist information from the Spotify API.\n",
    "#### 2. Fetching track features such as genre, BPM, danceability, etc., from the Spotify API.\n",
    "#### 3. Creating an artist/genre association network using machine learning techniques.\n",
    "#### 4. Finding recommendations based on metadata/audio features with a BPM filter applied"
   ]
  },
  {
   "cell_type": "code",
   "execution_count": null,
   "metadata": {},
   "outputs": [],
   "source": [
    "import spotipy\n",
    "from spotipy.oauth2 import SpotifyClientCredentials\n",
    "\n",
    "client_id = 'your_client_id'\n",
    "client_secret = 'your_client_secret'\n",
    "\n",
    "client_credentials_manager = SpotifyClientCredentials(client_id=client_id, client_secret=client_secret)\n",
    "sp = spotipy.Spotify(client_credentials_manager=client_credentials_manager)\n",
    "\n",
    "def get_playlist_tracks(playlist_url):\n",
    "    results = sp.playlist_tracks(playlist_url)\n",
    "    tracks_info = []\n",
    "    for item in results['items']:\n",
    "        track = item['track']\n",
    "        track_info = {\n",
    "            'name': track['name'],\n",
    "            'artists': [artist['name'] for artist in track['artists']],\n",
    "            'id': track['id']\n",
    "        }\n",
    "        tracks_info.append(track_info)\n",
    "    return tracks_info\n",
    "\n",
    "# Example Usage\n",
    "playlist_url = 'your_spotify_playlist_url'\n",
    "tracks_info = get_playlist_tracks(playlist_url)"
   ]
  },
  {
   "cell_type": "code",
   "execution_count": null,
   "metadata": {},
   "outputs": [],
   "source": [
    "def get_track_features(track_ids):\n",
    "    features = sp.audio_features(track_ids)\n",
    "    return features\n",
    "\n",
    "# Fetch features for the first few tracks to avoid API rate limits\n",
    "track_ids = [track['id'] for track in tracks_info[:5]]\n",
    "tracks_features = get_track_features(track_ids)"
   ]
  },
  {
   "cell_type": "code",
   "execution_count": null,
   "metadata": {},
   "outputs": [],
   "source": [
    "import networkx as nx\n",
    "import matplotlib.pyplot as plt\n",
    "\n",
    "def build_network(tracks_info):\n",
    "    G = nx.Graph()\n",
    "    for track in tracks_info:\n",
    "        for artist in track['artists']:\n",
    "            G.add_node(artist, type='artist')\n",
    "        if len(track['artists']) > 1:\n",
    "            for i in range(len(track['artists'])):\n",
    "                for j in range(i + 1, len(track['artists'])):\n",
    "                    G.add_edge(track['artists'][i], track['artists'][j])\n",
    "    return G\n",
    "\n",
    "G = build_network(tracks_info[:5])\n",
    "nx.draw(G, with_labels=True)\n",
    "plt.show()"
   ]
  }
 ],
 "metadata": {
  "language_info": {
   "name": "python"
  }
 },
 "nbformat": 4,
 "nbformat_minor": 2
}
