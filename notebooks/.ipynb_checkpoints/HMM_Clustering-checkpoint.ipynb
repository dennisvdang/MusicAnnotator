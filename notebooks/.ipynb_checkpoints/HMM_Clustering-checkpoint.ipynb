{
 "cells": [
  {
   "cell_type": "code",
   "execution_count": null,
   "id": "03d99a5a-cf43-48be-9541-90e0db0740b8",
   "metadata": {},
   "outputs": [],
   "source": [
    "import librosa\n",
    "import numpy as np\n",
    "\n",
    "def extract_constant_q(y, sr, fmin, fmax, bins):\n",
    "    C = librosa.cqt(y, sr=sr, fmin=fmin, n_bins=bins, bins_per_octave=bins//8, fmax=fmax)\n",
    "    return librosa.amplitude_to_db(abs(C))"
   ]
  },
  {
   "cell_type": "code",
   "execution_count": null,
   "id": "da4d760b-b048-45df-9f3f-cfc533524c0b",
   "metadata": {},
   "outputs": [],
   "source": [
    "SR = 12000 # Target sample rate chosen to be 1/4 of the original 48kHz.\n",
    "HOP_LENGTH = 128 # 128 @ 12kHz gives a similar frame rate to a hop length of 512 @ 48kHz.\n",
    "file_pattern = '../data/audio_files/processed/*.mp3'\n",
    "song_ids = [os.path.basename(f).split('.')[0] for f in glob.glob(file_pattern)]\n",
    "random.seed(42)\n",
    "random_song_id = random.choice(song_ids)\n",
    "print(f\"Song ID: {random_song_id}\")\n",
    "\n",
    "audio_file = f'../data/audio_files/processed/{random_song_id}.mp3'\n",
    "y, _ = librosa.load(audio_file, sr=SR)\n",
    "y_harm, y_perc = librosa.effects.hpss(y) # Harmonic and percussive source separation \n",
    "chromagram = librosa.feature.chroma_cqt(y=y_harm, sr=SR, hop_length=HOP_LENGTH, bins_per_octave=24)\n",
    "onset_env = librosa.onset.onset_strength(y=y_perc, sr=SR, hop_length=HOP_LENGTH)\n",
    "frame_duration = len(onset_env)"
   ]
  }
 ],
 "metadata": {
  "kernelspec": {
   "display_name": "Python 3 (ipykernel)",
   "language": "python",
   "name": "python3"
  },
  "language_info": {
   "codemirror_mode": {
    "name": "ipython",
    "version": 3
   },
   "file_extension": ".py",
   "mimetype": "text/x-python",
   "name": "python",
   "nbconvert_exporter": "python",
   "pygments_lexer": "ipython3",
   "version": "3.8.18"
  }
 },
 "nbformat": 4,
 "nbformat_minor": 5
}
