{
 "cells": [
  {
   "cell_type": "code",
   "execution_count": null,
   "id": "37df1baf",
   "metadata": {},
   "outputs": [],
   "source": [
    "import os\n",
    "import argparse\n",
    "import urllib.request\n",
    "import csv\n",
    "\n",
    "__author__ = \"Oriol Nieto\"\n",
    "__copyright__ = \"Copyright 2012, SALAMI Data Set Project\"\n",
    "__license__ = \"GPL\"\n",
    "__version__ = \"1.0\"\n",
    "__email__ = \"oriol@nyu.edu\"\n",
    "\n",
    "def download(url, localName):\n",
    "    \"\"\"Downloads the file from the url and saves it as localName.\"\"\"\n",
    "    req = urllib.request.Request(url)\n",
    "    r = urllib.request.urlopen(req)\n",
    "    f = open(localName, 'wb')\n",
    "    f.write(r.read())\n",
    "    f.close()\n",
    "\n",
    "def process(csv_file, output_dir):\n",
    "    \"\"\"Main process function to download all mp3s from the csv_file\n",
    "    and put them in the output_dir.\"\"\"\n",
    "    with open(csv_file, \"r\") as f:\n",
    "        file_reader = csv.reader(f)\n",
    "        for fields in file_reader:\n",
    "            id = fields[0]\n",
    "            url = fields[4]\n",
    "            print(\"Downloading:\", id, url)\n",
    "            try:\n",
    "                download(url, os.path.join(output_dir, id + \".mp3\"))\n",
    "            except Exception as e:\n",
    "                print(\"Could not retrieve:\", id, url)\n",
    "                print(\"Exception:\", e)\n",
    "\n",
    "def main():\n",
    "    \"\"\"Main function to parse the arguments and call the main process.\"\"\"\n",
    "    parser = argparse.ArgumentParser(description=\n",
    "             'Evaluates the results of the analyzer with the '\\\n",
    "             'ground truth data.')\n",
    "    parser.add_argument('csv_file', action='store',\n",
    "                        help='The path to id_index_internetarchive.csv')\n",
    "    parser.add_argument('output_dir', action='store',\n",
    "                        help='Directory where to save all the mp3s')\n",
    "    args = parser.parse_args()\n",
    "    process(args.csv_file, args.output_dir)\n",
    "\n",
    "if __name__ == \"__main__\":\n",
    "    main()"
   ]
  }
 ],
 "metadata": {
  "kernelspec": {
   "display_name": "Python 3 (ipykernel)",
   "language": "python",
   "name": "python3"
  },
  "language_info": {
   "codemirror_mode": {
    "name": "ipython",
    "version": 3
   },
   "file_extension": ".py",
   "mimetype": "text/x-python",
   "name": "python",
   "nbconvert_exporter": "python",
   "pygments_lexer": "ipython3",
   "version": "3.11.5"
  }
 },
 "nbformat": 4,
 "nbformat_minor": 5
}
