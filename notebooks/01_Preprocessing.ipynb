{
 "cells": [
  {
   "cell_type": "markdown",
   "id": "410dca03-875f-4dbc-a361-2a6def8f41e5",
   "metadata": {},
   "source": [
    "# Data preprocessing notebook\n",
    "This notebook is for audio pre-processing and Spotify audio feature extraction to prepare the dataset for manual annotation/labeling."
   ]
  },
  {
   "cell_type": "markdown",
   "id": "2e8160b8-9891-49df-9e74-08ffbac0e301",
   "metadata": {
    "id": "2e8160b8-9891-49df-9e74-08ffbac0e301"
   },
   "source": [
    "## Part 1: Audio Pre-processing\n",
    "- The following code iterates through all MP3 files in the `input_dir` and performs the following operations:\n",
    "  - Strips the silence from the audio.\n",
    "  - Parses the MP3 metadata.\n",
    "  - Exports the processed audio to the `output_dir` with a new filename based on a song ID counter.\n",
    "  - Appends song information to the `song_data_list`.\n",
    "  - Converts `song_data_list` to a pandas DataFrame and exports to a CSV file for further use.\n",
    "  - New songs can be added into `input_dir` and processed and appended into the existing CSV."
   ]
  },
  {
   "cell_type": "code",
   "execution_count": null,
   "id": "df676a61-394b-45d2-85f6-681f1cd7d6ca",
   "metadata": {
    "id": "df676a61-394b-45d2-85f6-681f1cd7d6ca"
   },
   "outputs": [],
   "source": [
    "import os\n",
    "import pandas as pd\n",
    "from datetime import datetime\n",
    "from pydub import AudioSegment\n",
    "from pydub.silence import detect_nonsilent\n",
    "from tqdm import tqdm\n",
    "from functools import reduce\n",
    "from mutagen.mp3 import MP3\n",
    "from mutagen.easyid3 import EasyID3"
   ]
  },
  {
   "cell_type": "code",
   "execution_count": null,
   "id": "2c5bd4bb-8677-4492-ac05-a871202fbcf1",
   "metadata": {
    "id": "2c5bd4bb-8677-4492-ac05-a871202fbcf1"
   },
   "outputs": [],
   "source": [
    "def strip_silence(sound, min_silence_len=1000, silence_thresh=-50):\n",
    "    \"\"\"\n",
    "    Strip silence from an audio segment.\n",
    "\n",
    "    Args:\n",
    "        sound: The audio segment to strip silence from.\n",
    "        min_silence_len: The minimum length of silence (in milliseconds) to be removed.\n",
    "        silence_thresh: The threshold (in dB) below which a segment is considered silent.\n",
    "\n",
    "    Returns:\n",
    "        An audio segment with the silence removed.\n",
    "    \"\"\"\n",
    "\n",
    "    nonsilent_ranges = detect_nonsilent(sound, min_silence_len=min_silence_len, silence_thresh=silence_thresh)\n",
    "    return reduce(lambda acc, val: acc + sound[val[0]:val[1]], nonsilent_ranges, AudioSegment.empty()) if nonsilent_ranges else sound\n",
    "\n",
    "\n",
    "def parse_mp3_metadata(file_path):\n",
    "    \"\"\"\n",
    "    Parse metadata from an MP3 file.\n",
    "\n",
    "    Args:\n",
    "        file_path: The path to the MP3 file.\n",
    "\n",
    "    Returns:\n",
    "        A tuple containing the track title, artists, and genre.\n",
    "    \"\"\"\n",
    "\n",
    "    try:\n",
    "        audiofile = MP3(file_path, ID3=EasyID3)\n",
    "        track_title = audiofile.get('title', [None])[0]\n",
    "        artists = audiofile.get('artist', [None])[0]\n",
    "        genre = audiofile.get('genre', [None])[0]\n",
    "        return track_title, artists, genre\n",
    "    except Exception as e:\n",
    "        print(f\"Error reading metadata for {file_path}: {e}\")\n",
    "        return None, None, None"
   ]
  },
  {
   "cell_type": "markdown",
   "id": "f7f286c3-cb22-4a48-b7d2-1465dc4d06c3",
   "metadata": {
    "id": "f7f286c3-cb22-4a48-b7d2-1465dc4d06c3"
   },
   "source": [
    "#### Run the cell below when processing songs for the ***first time***."
   ]
  },
  {
   "cell_type": "code",
   "execution_count": null,
   "id": "75b495f0-5624-4b2f-94ae-a385f0bb86d9",
   "metadata": {
    "id": "75b495f0-5624-4b2f-94ae-a385f0bb86d9",
    "outputId": "f65250f3-41dd-4be0-b41f-f3ebe623cb3c"
   },
   "outputs": [
    {
     "name": "stderr",
     "output_type": "stream",
     "text": [
      "Processing audio files: 100%|██████████| 554/554 [3:16:50<00:00, 21.32s/file]  \n"
     ]
    }
   ],
   "source": [
    "# Define directories\n",
    "input_dir = r'..\\data\\audio_files\\raw'\n",
    "output_dir = r'..\\data\\audio_files\\processed'\n",
    "\n",
    "# Ensure output directory exists\n",
    "os.makedirs(output_dir, exist_ok=True)\n",
    "\n",
    "# Initialize song data DataFrame\n",
    "df = pd.DataFrame(columns=[\"SongID\", \"TrackName\", \"Artists\", \"Genre\", \"FilePath\"])\n",
    "\n",
    "# Initialize song ID counter and list for song data\n",
    "song_id_counter = 1\n",
    "song_data_list = []\n",
    "\n",
    "# Process audio files\n",
    "for filename in tqdm([f for f in os.listdir(input_dir) if f.endswith('.mp3')], desc=\"Processing audio files\", unit=\"file\"):\n",
    "    file_path = os.path.join(input_dir, filename)\n",
    "\n",
    "    # Generate new filename using song ID counter\n",
    "    new_filename = f\"{song_id_counter}.mp3\"\n",
    "    output_file_path = os.path.join(output_dir, new_filename)\n",
    "\n",
    "    # Load and strip silence from audio file\n",
    "    sound = AudioSegment.from_file(file_path)\n",
    "    stripped_sound = strip_silence(sound)\n",
    "\n",
    "    # Parse metadata\n",
    "    track_title, artists, genre = parse_mp3_metadata(file_path)\n",
    "\n",
    "    # Export stripped audio with updated metadata\n",
    "    stripped_sound.export(output_file_path, format='mp3', tags={\"title\": track_title, \"artist\": artists, \"genre\": genre})\n",
    "\n",
    "    # Create dictionary of song information and add to list\n",
    "    song_data_list.append({\n",
    "        \"SongID\": song_id_counter,\n",
    "        \"TrackName\": track_title,\n",
    "        \"Artists\": artists,\n",
    "        \"Genre\": genre,\n",
    "        \"FilePath\": output_file_path\n",
    "    })\n",
    "\n",
    "    # Increment song ID counter\n",
    "    song_id_counter += 1\n",
    "\n",
    "# Convert list of dictionaries to DataFrame and save to CSV\n",
    "df = pd.DataFrame(song_data_list)\n",
    "df.to_csv(r'..\\data\\dataframes\\song_data.csv', index=False)"
   ]
  },
  {
   "cell_type": "markdown",
   "id": "3ff8e874-f27b-4cfc-ade1-c96e43b61d26",
   "metadata": {
    "id": "3ff8e874-f27b-4cfc-ade1-c96e43b61d26"
   },
   "source": [
    "#### Run the cell below if processing additional songs at a later time."
   ]
  },
  {
   "cell_type": "code",
   "execution_count": null,
   "id": "fdedbbfa-e8ce-4468-92d1-c2cc69c23ce1",
   "metadata": {
    "id": "fdedbbfa-e8ce-4468-92d1-c2cc69c23ce1",
    "outputId": "be8bddf5-1e8c-40fd-90bc-baa12871e39e"
   },
   "outputs": [
    {
     "name": "stderr",
     "output_type": "stream",
     "text": [
      "Processing new audio files: 100%|██████████| 869/869 [2:17:54<00:00,  9.52s/file]  "
     ]
    },
    {
     "name": "stdout",
     "output_type": "stream",
     "text": [
      "Processed 315 new songs and saved to song_data_20240109110632.csv.\n"
     ]
    },
    {
     "name": "stderr",
     "output_type": "stream",
     "text": [
      "\n"
     ]
    }
   ],
   "source": [
    "# Define directories\n",
    "input_dir = r'..\\data\\audio_files\\raw'\n",
    "output_dir = r'..\\data\\audio_files\\processed'\n",
    "song_data_csv = r'..\\data\\dataframes\\song_data.csv'\n",
    "\n",
    "# Ensure output directory exists\n",
    "os.makedirs(output_dir, exist_ok=True)\n",
    "\n",
    "# Load existing song data\n",
    "if os.path.exists(song_data_csv):\n",
    "    existing_df = pd.read_csv(song_data_csv)\n",
    "else:\n",
    "    existing_df = pd.DataFrame(columns=[\"SongID\", \"TrackName\", \"Artists\", \"Genre\", \"FilePath\"])\n",
    "\n",
    "# Initialize song ID counter with the next available ID\n",
    "song_id_counter = existing_df['SongID'].max() + 1 if not existing_df.empty else 1\n",
    "song_data_list = []\n",
    "\n",
    "# Process all new audio files in the input directory\n",
    "for filename in tqdm([f for f in os.listdir(input_dir) if f.endswith('.mp3')], desc=\"Processing new audio files\", unit=\"file\"):\n",
    "    file_path = os.path.join(input_dir, filename)\n",
    "\n",
    "    # Parse metadata to compare with existing data\n",
    "    track_title, artists, genre = parse_mp3_metadata(file_path)\n",
    "\n",
    "    # Check if the song already exists in the DataFrame\n",
    "    if not existing_df[\n",
    "        (existing_df['TrackName'] == track_title) &\n",
    "        (existing_df['Artists'] == artists)\n",
    "    ].empty:\n",
    "        continue  # Skip the file if it already exists\n",
    "\n",
    "    new_filename = f\"{song_id_counter}.mp3\"\n",
    "    output_file_path = os.path.join(output_dir, new_filename)\n",
    "\n",
    "    sound = AudioSegment.from_file(file_path)\n",
    "    stripped_sound = strip_silence(sound)\n",
    "    stripped_sound.export(output_file_path, format='mp3', tags={\"title\": track_title, \"artist\": artists, \"genre\": genre})\n",
    "\n",
    "    # Append new song data to the list\n",
    "    song_data_list.append({\n",
    "        \"SongID\": song_id_counter,\n",
    "        \"TrackName\": track_title,\n",
    "        \"Artists\": artists,\n",
    "        \"Genre\": genre,\n",
    "        \"FilePath\": output_file_path\n",
    "    })\n",
    "\n",
    "    # Increment the song ID counter\n",
    "    song_id_counter += 1\n",
    "\n",
    "# If we have new songs, append them to the existing dataframe and save to a new CSV with a unique identifier\n",
    "if song_data_list:\n",
    "    new_songs_df = pd.DataFrame(song_data_list)\n",
    "    updated_df = pd.concat([existing_df, new_songs_df], ignore_index=True)\n",
    "\n",
    "    # Get the current timestamp to use as a unique identifier\n",
    "    timestamp = datetime.now().strftime(\"%Y%m%d%H%M%S\")\n",
    "    new_csv_filename = f'song_data_{timestamp}.csv'\n",
    "    new_song_data_csv = os.path.join(os.path.dirname(song_data_csv), new_csv_filename)\n",
    "\n",
    "    updated_df.to_csv(new_song_data_csv, index=False)\n",
    "    print(f\"Processed {len(song_data_list)} new songs and saved to {new_csv_filename}.\")\n",
    "else:\n",
    "    print(\"No new songs to process.\")"
   ]
  },
  {
   "cell_type": "markdown",
   "id": "e6221b7d-af3b-4322-a5b4-c7d4e713fbee",
   "metadata": {},
   "source": [
    "## Part 2: Spotify Data Extraction\n",
    "\n",
    "Using the DataFrame we just created, we'll search for each track on Spotify and extract various Spotify-generated audio features and metadata."
   ]
  },
  {
   "cell_type": "code",
   "execution_count": 1,
   "id": "a3a9f3e4-6981-4f5b-af44-4469b49651b5",
   "metadata": {
    "id": "a3a9f3e4-6981-4f5b-af44-4469b49651b5"
   },
   "outputs": [],
   "source": [
    "import pandas as pd\n",
    "import json\n",
    "import spotipy\n",
    "from spotipy.oauth2 import SpotifyClientCredentials\n",
    "from tqdm import tqdm\n",
    "import time"
   ]
  },
  {
   "cell_type": "markdown",
   "id": "7369d748-6f80-492a-8218-0a23abe60e36",
   "metadata": {},
   "source": [
    "The Spotify client is initialized with credentials stored in a JSON file. These credentials include the `client_id` and `client_secret` necessary for accessing the Spotify Web API. The `SpotifyClientCredentials` manager handles the OAuth 2.0 flow for server-to-server authentication.\n",
    "\n",
    "Using any text editor, create a new text file containing the following information. Save the text file as \"spotify_credentials.json\" and place in '../data/reference' folder. \n",
    "\n",
    "```\n",
    "{\n",
    "  \"client_id\":\"REPLACE WITH CLIENT ID\",\n",
    "  \"client_secret\":\"REPLACE WITH SECRET\",\n",
    "  \"user_id\":\"REPLACE WITH SPOTIFY USERNAME\"\n",
    "}\n",
    "```\n",
    "* Retrieve your client ID and secret here: https://developer.spotify.com/dashboard/\n",
    "* Retrieve your username here: https://www.spotify.com/us/account/overview/"
   ]
  },
  {
   "cell_type": "code",
   "execution_count": 2,
   "id": "568fd0ba-04cf-4995-b83c-897921707590",
   "metadata": {},
   "outputs": [],
   "source": [
    "# Load Spotify credentials\n",
    "credentials_path = r'../data/reference/spotify_credentials.json'  # Path to your spotify_credentials.json file\n",
    "\n",
    "with open(credentials_path, 'r') as file:\n",
    "    creds = json.load(file)\n",
    "\n",
    "# Initialize Spotify client\n",
    "auth_manager = SpotifyClientCredentials(client_id=creds['client_id'], client_secret=creds['client_secret'])\n",
    "sp = spotipy.Spotify(auth_manager=auth_manager)"
   ]
  },
  {
   "cell_type": "code",
   "execution_count": 3,
   "id": "ff2076c6-b3b3-43b3-b47c-202cc435562e",
   "metadata": {},
   "outputs": [],
   "source": [
    "# In case rate-limited by Spotify\n",
    "def make_spotify_request(sp, track_title, artists):\n",
    "    retries = 3  # Maximum number of retries\n",
    "    backoff_factor = 0.5  # Factor to determine the next sleep time\n",
    "    for attempt in range(retries):\n",
    "        try:\n",
    "            # Format the search query\n",
    "            query = f\"track:{track_title} artist:{artists[0].strip()}\"  # Using the first artist for simplicity\n",
    "            # Search for tracks\n",
    "            return sp.search(q=query, type='track', limit=1)\n",
    "        except spotipy.exceptions.SpotifyException as e:\n",
    "            if e.http_status == 429:\n",
    "                sleep_time = int(e.headers.get('Retry-After', 1))\n",
    "                time.sleep(sleep_time)\n",
    "            elif 500 <= e.http_status < 600:\n",
    "                sleep_time = backoff_factor * (2 ** attempt)\n",
    "                time.sleep(sleep_time)\n",
    "            else:\n",
    "                raise\n",
    "    return None  # If all retries failed\n",
    "\n",
    "def extract_spotify_metadata_features(track_title, artists, sp):\n",
    "    \"\"\"\n",
    "    Extracts Spotify metadata and audio features for a given track title and list of artists.\n",
    "\n",
    "    Returns:\n",
    "    - DataFrame: A pandas DataFrame containing the Spotify metadata and audio features for the track.\n",
    "                 If no match is found, an empty DataFrame with the specified columns is returned.\n",
    "    \"\"\"\n",
    "\n",
    "    # Initialize variables\n",
    "    track_id, artist_ids, unique_genres = None, None, set()\n",
    "\n",
    "    # Search for track ID, artist IDs, and genres\n",
    "    for artist in artists:\n",
    "        query = f\"track:{track_title} artist:{artist.strip()}\"\n",
    "        track_results = sp.search(q=query, type='track', limit=1)\n",
    "        if track_results['tracks']['items']:\n",
    "            track_item = track_results['tracks']['items'][0]\n",
    "            track_id = track_item['id']\n",
    "            artist_ids = [artist['id'] for artist in track_item['artists']]\n",
    "            for artist_id in artist_ids:\n",
    "                artist_genre = sp.artist(artist_id)['genres']\n",
    "                unique_genres.update(artist_genre)\n",
    "            break\n",
    "\n",
    "    # Retrieve audio features if a match was found\n",
    "    if track_id and artist_ids:\n",
    "        audio_features_dict = sp.audio_features(track_id)[0]\n",
    "        audio_features_dict['sp_genre'] = list(unique_genres)\n",
    "        audio_features_df = pd.DataFrame([audio_features_dict])\n",
    "        columns_to_drop = ['type', 'id', 'uri', 'track_href', 'analysis_url', 'duration_ms', 'mode']\n",
    "        audio_features_df.drop(columns=columns_to_drop, inplace=True)\n",
    "    else:\n",
    "        audio_features_df = pd.DataFrame()\n",
    "\n",
    "    return audio_features_df"
   ]
  },
  {
   "cell_type": "code",
   "execution_count": 4,
   "id": "20b6d3bd-f9ca-433c-8987-77247368963b",
   "metadata": {},
   "outputs": [
    {
     "name": "stderr",
     "output_type": "stream",
     "text": [
      "Fetching track features: 100%|██████████| 869/869 [07:19<00:00,  1.98it/s]\n"
     ]
    }
   ],
   "source": [
    "# Load the DataFramge or CSV that we created in the step above\n",
    "df = pd.read_csv(r'..\\data\\dataframes\\song_data_20240109110632.csv')\n",
    "\n",
    "# Initialize an empty DataFrame to store all tracks' info\n",
    "spotify_df = pd.DataFrame()\n",
    "\n",
    "# Loop through each row of the DataFrame\n",
    "for index, row in tqdm(df.iterrows(), total=df.shape[0], desc=\"Fetching track features\"):    \n",
    "    track_title = row['TrackName']\n",
    "    artists = [artist.strip() for artist in row['Artists'].split('/')]  # Split artists by '/' and strip whitespace\n",
    "\n",
    "    # Use the function to extract metadata and audio features\n",
    "    track_features_df = extract_spotify_metadata_features(track_title, artists, sp)\n",
    "\n",
    "    # If the DataFrame is not empty, merge the results with the song details\n",
    "    if not track_features_df.empty:\n",
    "        track_features_df['SongID'] = row['SongID']  # Assuming there's a 'SongID' column in the original DataFrame\n",
    "        track_features_df['sp_genre'] = ', '.join(track_features_df.loc[0, 'sp_genre'])  # Join genres into a single string\n",
    "        # Append this track's DataFrame to the main DataFrame\n",
    "        spotify_df = pd.concat([spotify_df, track_features_df], ignore_index=True)"
   ]
  },
  {
   "cell_type": "code",
   "execution_count": 7,
   "id": "67be48d8-8a24-4238-97bb-176cb0f57370",
   "metadata": {},
   "outputs": [
    {
     "name": "stdout",
     "output_type": "stream",
     "text": [
      "<class 'pandas.core.frame.DataFrame'>\n",
      "RangeIndex: 840 entries, 0 to 839\n",
      "Data columns (total 13 columns):\n",
      " #   Column               Non-Null Count  Dtype  \n",
      "---  ------               --------------  -----  \n",
      " 0   sp_danceability      840 non-null    float64\n",
      " 1   sp_energy            840 non-null    float64\n",
      " 2   sp_key               840 non-null    int64  \n",
      " 3   sp_loudness          840 non-null    float64\n",
      " 4   sp_speechiness       840 non-null    float64\n",
      " 5   sp_acousticness      840 non-null    float64\n",
      " 6   sp_instrumentalness  840 non-null    float64\n",
      " 7   sp_liveness          840 non-null    float64\n",
      " 8   sp_valence           840 non-null    float64\n",
      " 9   sp_tempo             840 non-null    float64\n",
      " 10  sp_time_signature    840 non-null    int64  \n",
      " 11  sp_genre             840 non-null    object \n",
      " 12  SongID               840 non-null    int64  \n",
      "dtypes: float64(9), int64(3), object(1)\n",
      "memory usage: 85.4+ KB\n"
     ]
    }
   ],
   "source": [
    "# Adding 'sp_' in front of columns to indicate they are Spotify-derived features\n",
    "prefix_cols = ['danceability', 'energy', 'key', 'loudness', 'speechiness',\n",
    "               'acousticness', 'instrumentalness', 'liveness', 'valence', 'tempo',\n",
    "               'time_signature']\n",
    "\n",
    "spotify_df.rename(columns=lambda x: 'sp_' + x if x in prefix_cols else x, inplace=True)\n",
    "spotify_df.info()"
   ]
  },
  {
   "cell_type": "code",
   "execution_count": 8,
   "id": "1e313309-ea28-42fb-b890-8e9a5a633f86",
   "metadata": {},
   "outputs": [],
   "source": [
    "# Join with DataFrame made in Part 1\n",
    "merged_df = pd.merge(df, spotify_df, on='SongID', how='left')\n",
    "merged_df.to_csv(r'../data/dataframes/sp_merged.csv', index=False)"
   ]
  }
 ],
 "metadata": {
  "colab": {
   "provenance": []
  },
  "kernelspec": {
   "display_name": "Python 3 (ipykernel)",
   "language": "python",
   "name": "python3"
  },
  "language_info": {
   "codemirror_mode": {
    "name": "ipython",
    "version": 3
   },
   "file_extension": ".py",
   "mimetype": "text/x-python",
   "name": "python",
   "nbconvert_exporter": "python",
   "pygments_lexer": "ipython3",
   "version": "3.11.5"
  }
 },
 "nbformat": 4,
 "nbformat_minor": 5
}
