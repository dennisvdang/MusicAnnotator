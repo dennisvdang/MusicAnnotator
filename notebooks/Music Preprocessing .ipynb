{
 "cells": [
  {
   "cell_type": "markdown",
   "id": "8941a4ee",
   "metadata": {},
   "source": [
    "This notebook is for trimming silent beginning/endings on mp3 files"
   ]
  },
  {
   "cell_type": "code",
   "execution_count": 6,
   "id": "fd09c42f",
   "metadata": {},
   "outputs": [
    {
     "name": "stderr",
     "output_type": "stream",
     "text": [
      "Processing audio files: 100%|████████████████████████████████████████████████████| 364/364 [2:02:11<00:00, 20.14s/file]\n"
     ]
    }
   ],
   "source": [
    "from pydub import AudioSegment\n",
    "from pydub.silence import detect_nonsilent\n",
    "from tqdm import tqdm\n",
    "import os\n",
    "from functools import reduce\n",
    "\n",
    "# Define the directories\n",
    "input_dir = r'..\\data\\audio_files\\raw_house'  # Directory to raw mp3 files\n",
    "output_dir = r'..\\data\\audio_files\\processed'  # Directory to export trimmed mp3 files\n",
    "\n",
    "# Ensure output directory exists\n",
    "os.makedirs(output_dir, exist_ok=True)\n",
    "\n",
    "# Function to strip silence\n",
    "def strip_silence(sound, silence_thresh=-50):\n",
    "    nonsilent_ranges = detect_nonsilent(sound, min_silence_len=1000, silence_thresh=silence_thresh)\n",
    "    # Concatenate the nonsilent portions of the audio\n",
    "    return reduce(lambda acc, val: acc + sound[val[0]:val[1]], nonsilent_ranges, AudioSegment.empty()) if nonsilent_ranges else sound\n",
    "\n",
    "# Process all audio files in the input directory\n",
    "for filename in tqdm([f for f in os.listdir(input_dir) if f.endswith('.mp3')], desc=\"Processing audio files\", unit=\"file\"):\n",
    "    file_path = os.path.join(input_dir, filename)\n",
    "    output_file_path = os.path.join(output_dir, filename)\n",
    "    \n",
    "    # Skip processing if the file already exists in the output directory\n",
    "    if os.path.exists(output_file_path):\n",
    "        print(f\"File {filename} already processed. Skipping.\")\n",
    "        continue\n",
    "    \n",
    "    # Load the audio file and strip silence\n",
    "    sound = AudioSegment.from_file(file_path)\n",
    "    stripped_sound = strip_silence(sound)\n",
    "    \n",
    "    # Export the stripped audio without metadata\n",
    "    stripped_sound.export(output_file_path, format='mp3')"
   ]
  }
 ],
 "metadata": {
  "kernelspec": {
   "display_name": "Python 3 (ipykernel)",
   "language": "python",
   "name": "python3"
  },
  "language_info": {
   "codemirror_mode": {
    "name": "ipython",
    "version": 3
   },
   "file_extension": ".py",
   "mimetype": "text/x-python",
   "name": "python",
   "nbconvert_exporter": "python",
   "pygments_lexer": "ipython3",
   "version": "3.11.5"
  }
 },
 "nbformat": 4,
 "nbformat_minor": 5
}
